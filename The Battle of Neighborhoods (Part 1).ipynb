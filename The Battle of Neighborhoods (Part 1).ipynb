{
    "cells": [
        {
            "cell_type": "markdown",
            "metadata": {
                "collapsed": true
            },
            "source": "**Peer-graded Assignment: Capstone Project** \\\n**The Battle of Neighborhoods (Part 1)**"
        },
        {
            "cell_type": "markdown",
            "metadata": {},
            "source": "**Introduction / Business Problem** \\\nThis capstone project is designed to me (the author) personally.\\\nI am relocating to Shanghai, China in February 2021 to pursue my career goal. As I am not sure exactly which part of Shanghai I will \\\nbe staying, I thought it is a good idea to take this capstone project as an apportunity to explore Shanghai in advance. \\\nIn this project, I will explore Shanghai (area where I will be settled down) following the criteria below: \n\n1. Find an area near to metro station\n2. Find an area near to hospital (health is very important during this pandemic!)\n\nFrom the above criteria, I should be able to narrow down the area I'd like to stay. \\\nThen I will explore the nearby area to look for Chinese restaurant for food. \n"
        },
        {
            "cell_type": "markdown",
            "metadata": {},
            "source": "**Data Preparation** \\\nRaw data of Metro station and its respective location will be scraped from web. Next, I will impose the \\\nlocation to map using **Folium** map. \\\n\nSimilarly, raw data of hospital location will be scraped from web. The same procedure will be repeated, \\\nwhereby I will impose hospital location to the SAME map that has the metro location. \\\n\nAs such, I will be able to look for a location that is close to a metro station and a hosptital."
        },
        {
            "cell_type": "markdown",
            "metadata": {},
            "source": "- End of Part 1 -"
        },
        {
            "cell_type": "code",
            "execution_count": null,
            "metadata": {},
            "outputs": [],
            "source": ""
        }
    ],
    "metadata": {
        "kernelspec": {
            "display_name": "Python 3.7",
            "language": "python",
            "name": "python3"
        },
        "language_info": {
            "codemirror_mode": {
                "name": "ipython",
                "version": 3
            },
            "file_extension": ".py",
            "mimetype": "text/x-python",
            "name": "python",
            "nbconvert_exporter": "python",
            "pygments_lexer": "ipython3",
            "version": "3.7.9"
        }
    },
    "nbformat": 4,
    "nbformat_minor": 1
}